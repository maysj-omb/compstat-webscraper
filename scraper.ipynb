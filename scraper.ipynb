{
 "cells": [
  {
   "cell_type": "markdown",
   "metadata": {},
   "source": [
    "## Web Scraper\n",
    "John Mays | maysj at-symbol omb... | Policy & Operations Research @ OMB | Created: 06/07/24 | Last Updated: 06/07/24\n",
    "\n",
    "For the purpose of retrieving the crime data from the NYPD [CompStat 2.0](https://compstat.nypdonline.org/) dashboard."
   ]
  },
  {
   "cell_type": "code",
   "execution_count": 1,
   "metadata": {},
   "outputs": [
    {
     "name": "stderr",
     "output_type": "stream",
     "text": [
      "/Users/johnmays/Documents/Projects/OMB/compstat-webscraper/.venv/lib/python3.8/site-packages/urllib3/__init__.py:35: NotOpenSSLWarning: urllib3 v2 only supports OpenSSL 1.1.1+, currently the 'ssl' module is compiled with 'LibreSSL 2.8.3'. See: https://github.com/urllib3/urllib3/issues/3020\n",
      "  warnings.warn(\n"
     ]
    }
   ],
   "source": [
    "# import:\n",
    "import pandas as pd\n",
    "from bs4 import BeautifulSoup\n",
    "import requests"
   ]
  },
  {
   "cell_type": "code",
   "execution_count": 2,
   "metadata": {},
   "outputs": [],
   "source": [
    "compstat_url = 'https://compstat.nypdonline.org/'"
   ]
  },
  {
   "cell_type": "code",
   "execution_count": 3,
   "metadata": {},
   "outputs": [],
   "source": [
    "dashboard_html = requests.get(compstat_url).text"
   ]
  },
  {
   "cell_type": "code",
   "execution_count": 4,
   "metadata": {},
   "outputs": [],
   "source": [
    "soup = BeautifulSoup(dashboard_html, 'lxml')"
   ]
  },
  {
   "cell_type": "code",
   "execution_count": 5,
   "metadata": {},
   "outputs": [
    {
     "name": "stdout",
     "output_type": "stream",
     "text": [
      "html\n",
      "head\n",
      "base\n",
      "meta\n",
      "meta\n",
      "meta\n",
      "meta\n",
      "meta\n",
      "link\n",
      "link\n",
      "link\n",
      "link\n",
      "link\n",
      "link\n",
      "link\n",
      "link\n",
      "link\n",
      "link\n",
      "meta\n",
      "meta\n",
      "meta\n",
      "title\n",
      "meta\n",
      "meta\n",
      "meta\n",
      "meta\n",
      "meta\n",
      "meta\n",
      "meta\n",
      "meta\n",
      "meta\n",
      "meta\n",
      "meta\n",
      "meta\n",
      "style\n",
      "link\n",
      "noscript\n",
      "link\n",
      "body\n",
      "app-root\n",
      "script\n",
      "script\n",
      "script\n"
     ]
    }
   ],
   "source": [
    "for child in soup.descendants:\n",
    "    if child.name:\n",
    "        print(child.name)"
   ]
  },
  {
   "cell_type": "code",
   "execution_count": 6,
   "metadata": {},
   "outputs": [
    {
     "name": "stdout",
     "output_type": "stream",
     "text": [
      "None\n"
     ]
    }
   ],
   "source": [
    "print(soup.find('meta', attrs={'class': 'k-grid-container'}))"
   ]
  }
 ],
 "metadata": {
  "kernelspec": {
   "display_name": ".venv",
   "language": "python",
   "name": "python3"
  },
  "language_info": {
   "codemirror_mode": {
    "name": "ipython",
    "version": 3
   },
   "file_extension": ".py",
   "mimetype": "text/x-python",
   "name": "python",
   "nbconvert_exporter": "python",
   "pygments_lexer": "ipython3",
   "version": "3.8.9"
  }
 },
 "nbformat": 4,
 "nbformat_minor": 2
}
