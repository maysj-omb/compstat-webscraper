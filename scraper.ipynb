{
 "cells": [
  {
   "cell_type": "markdown",
   "metadata": {},
   "source": [
    "## Web Scraper\n",
    "John Mays | maysj at-symbol omb... | Policy & Operations Research @ OMB | Created: 06/07/24 | Last Updated: 06/07/24\n",
    "\n",
    "For the purpose of retrieving the crime data from the NYPD [CompStat 2.0](https://compstat.nypdonline.org/) dashboard."
   ]
  },
  {
   "cell_type": "code",
   "execution_count": null,
   "metadata": {},
   "outputs": [],
   "source": [
    "# import:\n",
    "import pandas as pd\n",
    "from bs4 import BeautifulSoup"
   ]
  }
 ],
 "metadata": {
  "kernelspec": {
   "display_name": ".venv",
   "language": "python",
   "name": "python3"
  },
  "language_info": {
   "name": "python",
   "version": "3.8.9"
  }
 },
 "nbformat": 4,
 "nbformat_minor": 2
}
